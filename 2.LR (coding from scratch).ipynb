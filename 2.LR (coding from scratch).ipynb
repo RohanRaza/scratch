{
 "cells": [
  {
   "cell_type": "code",
   "execution_count": 1,
   "id": "756d5b34",
   "metadata": {},
   "outputs": [],
   "source": [
    "import matplotlib.pyplot as plt\n",
    "import pandas as pd\n",
    "import numpy as np"
   ]
  },
  {
   "cell_type": "code",
   "execution_count": 2,
   "id": "cb70e9e2",
   "metadata": {},
   "outputs": [],
   "source": [
    "df = pd.read_csv(\"placement.csv\")"
   ]
  },
  {
   "cell_type": "code",
   "execution_count": 3,
   "id": "d9592129",
   "metadata": {},
   "outputs": [],
   "source": [
    "X = df.iloc[:,[0]]\n",
    "y = df.iloc[:,-1]"
   ]
  },
  {
   "cell_type": "code",
   "execution_count": 4,
   "id": "b4c4afc0",
   "metadata": {},
   "outputs": [],
   "source": [
    "from sklearn.model_selection import train_test_split"
   ]
  },
  {
   "cell_type": "code",
   "execution_count": 5,
   "id": "72893915",
   "metadata": {},
   "outputs": [],
   "source": [
    "X_train,X_test, y_train, y_test = train_test_split(X,y, test_size = 0.2, random_state=2)"
   ]
  },
  {
   "cell_type": "code",
   "execution_count": 6,
   "id": "91487018",
   "metadata": {},
   "outputs": [
    {
     "data": {
      "text/plain": [
       "160"
      ]
     },
     "execution_count": 6,
     "metadata": {},
     "output_type": "execute_result"
    }
   ],
   "source": [
    "X_train.shape[0]"
   ]
  },
  {
   "cell_type": "code",
   "execution_count": 10,
   "id": "8c65b00f",
   "metadata": {},
   "outputs": [
    {
     "data": {
      "text/plain": [
       "cgpa    0.150062\n",
       "dtype: float64"
      ]
     },
     "execution_count": 10,
     "metadata": {},
     "output_type": "execute_result"
    }
   ],
   "source": [
    "X_train.iloc[0] - X_train.mean()"
   ]
  },
  {
   "cell_type": "code",
   "execution_count": 22,
   "id": "55cb5c72",
   "metadata": {},
   "outputs": [
    {
     "data": {
      "text/plain": [
       "array([6.9899375])"
      ]
     },
     "execution_count": 22,
     "metadata": {},
     "output_type": "execute_result"
    }
   ],
   "source": [
    "X_train.mean().values"
   ]
  },
  {
   "cell_type": "code",
   "execution_count": 25,
   "id": "89bee3c4",
   "metadata": {},
   "outputs": [],
   "source": [
    "def fit(X_train, y_train):\n",
    "\n",
    "    num = 0\n",
    "    den = 0\n",
    "    \n",
    "    for i in range(X_train.shape[0]):\n",
    "        num += (X_train.iloc[i] - X_train.mean()) * (y_train.iloc[i] - y_train.mean())\n",
    "        den += (X_train.iloc[i] - X_train.mean()) * (X_train.iloc[i] - X_train.mean())\n",
    "        \n",
    "    m = num/den\n",
    "    b = y_train.mean() - (m * X_train.mean())\n",
    "#     print(\"Slope \", m, \"Intercept\", b)\n",
    "    return m.values[0], b.values[0]"
   ]
  },
  {
   "cell_type": "code",
   "execution_count": 26,
   "id": "17d92b1a",
   "metadata": {},
   "outputs": [
    {
     "data": {
      "text/plain": [
       "(0.5579519734250721, -0.8961119222429152)"
      ]
     },
     "execution_count": 26,
     "metadata": {},
     "output_type": "execute_result"
    }
   ],
   "source": [
    "fit(X_train, y_train)"
   ]
  },
  {
   "cell_type": "code",
   "execution_count": null,
   "id": "4c700c18",
   "metadata": {},
   "outputs": [],
   "source": []
  }
 ],
 "metadata": {
  "kernelspec": {
   "display_name": "Python 3 (ipykernel)",
   "language": "python",
   "name": "python3"
  },
  "language_info": {
   "codemirror_mode": {
    "name": "ipython",
    "version": 3
   },
   "file_extension": ".py",
   "mimetype": "text/x-python",
   "name": "python",
   "nbconvert_exporter": "python",
   "pygments_lexer": "ipython3",
   "version": "3.11.4"
  }
 },
 "nbformat": 4,
 "nbformat_minor": 5
}
